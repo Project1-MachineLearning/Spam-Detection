{
 "cells": [
  {
   "cell_type": "code",
   "execution_count": 1,
   "metadata": {},
   "outputs": [],
   "source": [
    "# Importing the Libraries\n",
    "import pandas as pd\n",
    "import string"
   ]
  },
  {
   "cell_type": "code",
   "execution_count": 2,
   "metadata": {},
   "outputs": [],
   "source": [
    "# Methods for Preprocessing \n",
    "\n",
    "# method to remove punctuations from the text\n",
    "def punct_remove(text):\n",
    "    punct=\"\".join([w for w in text if w not in string.punctuation])\n",
    "    return punct\n",
    "\n",
    "# method to remove stopwords from the data text\n",
    "def stopwordsremoval(text):\n",
    "    word=\"\".join([e for e in text if e not in stopwords.words('english')])\n",
    "    return word\n",
    "\n",
    "#Stemming to shorten the words to root form\n",
    "def Stemming_word(text):\n",
    "    lem_text=\"\".join([pStemmer.stem(i) for i in text])\n",
    "    return lem_text"
   ]
  },
  {
   "cell_type": "code",
   "execution_count": 3,
   "metadata": {},
   "outputs": [],
   "source": [
    "# Reading the Data\n",
    "data = pd.read_csv(\"spam.csv\",encoding = \"latin-1\")"
   ]
  },
  {
   "cell_type": "code",
   "execution_count": 4,
   "metadata": {},
   "outputs": [],
   "source": [
    "# Removing Punctuations\n",
    "data['Text']=data['Text'].apply(lambda x:punct_remove(x))"
   ]
  },
  {
   "cell_type": "code",
   "execution_count": 5,
   "metadata": {},
   "outputs": [],
   "source": [
    "# Word Tokenizing\n",
    "from nltk.tokenize import RegexpTokenizer\n",
    "tokenizer = RegexpTokenizer(r'\\w+')\n",
    "data['Text']=data['Text'].apply(lambda x:tokenizer.tokenize(x.lower()))"
   ]
  },
  {
   "cell_type": "code",
   "execution_count": 6,
   "metadata": {},
   "outputs": [],
   "source": [
    "# Stopwords Removal\n",
    "from nltk.corpus import stopwords\n",
    "data['Text']=data['Text'].apply(lambda x:stopwordsremoval(x))"
   ]
  },
  {
   "cell_type": "code",
   "execution_count": 7,
   "metadata": {},
   "outputs": [],
   "source": [
    "# Stemming\n",
    "from nltk.stem import PorterStemmer\n",
    "pStemmer=PorterStemmer()\n",
    "data['Text']=data['Text'].apply(lambda x:Stemming_word(x))"
   ]
  },
  {
   "cell_type": "code",
   "execution_count": 8,
   "metadata": {},
   "outputs": [],
   "source": [
    "# Splitting the data\n",
    "from sklearn.model_selection import train_test_split\n",
    "X_train, X_test, y_train, y_test = train_test_split(data['Text'], data['Class'], test_size = 0.2)"
   ]
  },
  {
   "cell_type": "code",
   "execution_count": 9,
   "metadata": {},
   "outputs": [],
   "source": [
    "# Implementing CountVectorization\n",
    "from sklearn.feature_extraction.text import  CountVectorizer\n",
    "\n",
    "# Creating the Instance of  Count Vectorizer\n",
    "cv_clf= CountVectorizer()\n",
    "\n",
    "# Training the Data\n",
    "X_train_count = cv_clf.fit_transform(X_train)\n",
    "X_test_count= cv_clf.transform(X_test)"
   ]
  },
  {
   "cell_type": "code",
   "execution_count": 14,
   "metadata": {},
   "outputs": [
    {
     "name": "stdout",
     "output_type": "stream",
     "text": [
      "CountVectorizer score:  0.8699551569506726\n",
      "[[968   0]\n",
      " [145   2]]\n"
     ]
    }
   ],
   "source": [
    "# Model Implementation\n",
    "from sklearn.naive_bayes import MultinomialNB\n",
    "\n",
    "# Creating instance of model\n",
    "NB_classif= MultinomialNB()\n",
    "\n",
    "# Training the Model\n",
    "NB_classif.fit(X_train_count, y_train)\n",
    "\n",
    "# Predicting the result\n",
    "predicted  = NB_classif.predict(X_test_count)\n",
    "\n",
    "\n",
    "# Calcluating the Accuracy\n",
    "from sklearn import metrics\n",
    "print(\"CountVectorizer score: \",metrics.accuracy_score(y_test, predicted))\n",
    "\n",
    "# Building Confusion Matrix\n",
    "from sklearn.metrics import confusion_matrix\n",
    "print(confusion_matrix(y_test, predicted))"
   ]
  },
  {
   "cell_type": "code",
   "execution_count": null,
   "metadata": {},
   "outputs": [],
   "source": []
  }
 ],
 "metadata": {
  "kernelspec": {
   "display_name": "Python 3",
   "language": "python",
   "name": "python3"
  },
  "language_info": {
   "codemirror_mode": {
    "name": "ipython",
    "version": 3
   },
   "file_extension": ".py",
   "mimetype": "text/x-python",
   "name": "python",
   "nbconvert_exporter": "python",
   "pygments_lexer": "ipython3",
   "version": "3.7.6"
  }
 },
 "nbformat": 4,
 "nbformat_minor": 4
}
